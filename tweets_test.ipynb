{
  "nbformat": 4,
  "nbformat_minor": 0,
  "metadata": {
    "colab": {
      "name": "tweets_test.ipynb",
      "provenance": [],
      "authorship_tag": "ABX9TyOzCZxDK1uGWYHsHcUY4sos",
      "include_colab_link": true
    },
    "kernelspec": {
      "name": "python3",
      "display_name": "Python 3"
    },
    "language_info": {
      "name": "python"
    }
  },
  "cells": [
    {
      "cell_type": "markdown",
      "metadata": {
        "id": "view-in-github",
        "colab_type": "text"
      },
      "source": [
        "<a href=\"https://colab.research.google.com/github/zeliasporto/twitter-sentment-analysis/blob/primeiro-teste/tweets_test.ipynb\" target=\"_parent\"><img src=\"https://colab.research.google.com/assets/colab-badge.svg\" alt=\"Open In Colab\"/></a>"
      ]
    },
    {
      "cell_type": "code",
      "source": [
        "import tweepy"
      ],
      "metadata": {
        "id": "FU_YYMlSPtIZ"
      },
      "execution_count": 2,
      "outputs": []
    },
    {
      "cell_type": "code",
      "execution_count": 3,
      "metadata": {
        "id": "Hvikt7Kt_7Tt"
      },
      "outputs": [],
      "source": [
        "consumer_key = 'poeHPuofPrplS0klMWKfPAGBO'\n",
        "consumer_secret\t= 'BrHcSxlNjLSifaj93s3ZKm2e3nxZ6qGflAVT4gE4JOj245J4U5'\n",
        "access_token = '1496156303189753867-0uqBUR3aApUsuAQEpV2YlCvbjkv4Uk'\n",
        "token_secret = 'STOQSebzwhlMi8WiaQuimKtfUpIRBTXnGITOpqKhDRJxV'\n",
        "bearer_token = 'AAAAAAAAAAAAAAAAAAAAAG0VZgEAAAAALB4EJLZjQai5D%2FHPcZy5OT1ZV3Q%3DjXCvG7JnpnNAMK1gUh2NlufV4OcIzdkpB0Uq63IdMbLxllQ9Lg'\n",
        "\n",
        "auth = tweepy.OAuthHandler(consumer_key, consumer_secret)\n",
        "auth.set_access_token(access_token, token_secret)\n",
        "\n",
        "api = tweepy.API(auth)\n",
        "\n",
        "tweets = tweepy.Cursor(api.search,\n",
        "                   since='2019-01-01',\n",
        "                   until='2019-12-31'\n",
        "                   ).items(2)\n",
        "\n",
        "#print(next(tweets))"
      ]
    }
  ]
}